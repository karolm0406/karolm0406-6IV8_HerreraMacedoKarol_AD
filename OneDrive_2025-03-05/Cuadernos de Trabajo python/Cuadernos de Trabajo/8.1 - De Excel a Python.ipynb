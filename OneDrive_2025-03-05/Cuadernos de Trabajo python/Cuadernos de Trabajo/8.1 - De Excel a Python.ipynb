{
 "cells": [
  {
   "cell_type": "markdown",
   "id": "06a255ce-6885-4b5c-8668-75790e50633d",
   "metadata": {},
   "source": [
    "# Pandas para los que vienen de Excel"
   ]
  },
  {
   "cell_type": "markdown",
   "id": "3f14362c-3974-4561-8707-377b22b11c54",
   "metadata": {},
   "source": [
    "Como la mayoría de ustedes tienen algo de familiaridad con Excel, vamos a ver varios ejemplos de como ciertos conceptos básicos de hoja de cálculo pueden ser realizados con pandas. "
   ]
  },
  {
   "cell_type": "markdown",
   "id": "bf4ca609-1844-4a85-b47b-8f40908a3887",
   "metadata": {},
   "source": [
    "Lo primero será importar pandas"
   ]
  },
  {
   "cell_type": "code",
   "execution_count": 54,
   "id": "14de0f93-5266-442d-93ec-153506cd54e8",
   "metadata": {},
   "outputs": [],
   "source": [
    "import pandas as pd"
   ]
  },
  {
   "cell_type": "markdown",
   "id": "0741fac8-ea2a-4bde-bc1a-8f1c894e7468",
   "metadata": {},
   "source": [
    "y Numpy"
   ]
  },
  {
   "cell_type": "code",
   "execution_count": 56,
   "id": "06cd61f0-99af-412c-973a-434f6e8a91e7",
   "metadata": {},
   "outputs": [],
   "source": [
    "import numpy as np"
   ]
  },
  {
   "cell_type": "markdown",
   "id": "a9357d4f-fb8c-4944-8743-59526bdbd699",
   "metadata": {},
   "source": [
    "## Los elementos de Pandas vs Excel"
   ]
  },
  {
   "cell_type": "markdown",
   "id": "f1c1a26b-62da-490b-a216-7fb42a1c8568",
   "metadata": {},
   "source": [
    "DataFrame = hoja de trabajo"
   ]
  },
  {
   "cell_type": "markdown",
   "id": "349787d0-7086-4e34-a220-ead40f613436",
   "metadata": {},
   "source": [
    "Series = Columna"
   ]
  },
  {
   "cell_type": "markdown",
   "id": "9c4c5187-90ac-49e0-bca6-1262f30437af",
   "metadata": {},
   "source": [
    "Index = Encabezado de fila"
   ]
  },
  {
   "cell_type": "markdown",
   "id": "9fea772a-5902-4af5-9949-cf35e9d97ca2",
   "metadata": {},
   "source": [
    "NaN = celda vacia"
   ]
  },
  {
   "cell_type": "markdown",
   "id": "9ba8c738-48cf-4236-a7ba-b14e9393571d",
   "metadata": {},
   "source": [
    "## Importar datos a Pandas"
   ]
  },
  {
   "cell_type": "markdown",
   "id": "f2be3512-ff0d-49e4-9044-ab3c48a27e4c",
   "metadata": {},
   "source": [
    "Vamos trayendo nuestros datos del restaurand a un datafarme (desde csv)"
   ]
  },
  {
   "cell_type": "code",
   "execution_count": 62,
   "id": "199b8937-1fa1-4958-b301-9d131b3623b4",
   "metadata": {},
   "outputs": [],
   "source": [
    "df= pd.read_excel(\"Datos Restaurante.xlsx\")"
   ]
  },
  {
   "cell_type": "code",
   "execution_count": 63,
   "id": "d3f7d308-d965-42a6-a1f5-865adc89db33",
   "metadata": {},
   "outputs": [
    {
     "name": "stdout",
     "output_type": "stream",
     "text": [
      "   Orden      Fecha Hora de Cobro  Mesa  Atendió    Tipo        Producto  \\\n",
      "0      1 2014-02-01      18:43:12     1  Rodolfo  Bebida          Tecate   \n",
      "1      1 2014-02-01      18:43:12     1  Rodolfo  Bebida          Tisana   \n",
      "2      1 2014-02-01      18:43:12     1  Rodolfo  Bebida  Café americano   \n",
      "3      1 2014-02-01      18:43:12     1  Rodolfo  Bebida       Te helado   \n",
      "4      1 2014-02-01      18:43:12     1  Rodolfo  Comida  Pera Rostizada   \n",
      "\n",
      "           Categoria  Propina Tipo de Cliente  \n",
      "0           Cervezas     0.07   Cliente Nuevo  \n",
      "1  Bebida no Alcohol     0.07   Cliente Nuevo  \n",
      "2  Bebida no Alcohol     0.07   Cliente Nuevo  \n",
      "3  Bebida no Alcohol     0.07   Cliente Nuevo  \n",
      "4          Ensaladas     0.07   Cliente Nuevo  \n"
     ]
    }
   ],
   "source": [
    "print(df.head())"
   ]
  },
  {
   "cell_type": "markdown",
   "id": "af694c92-c200-4337-8e46-1742f42591eb",
   "metadata": {},
   "source": [
    "Y nuestros costos a un segundo dataframe (desde excel)"
   ]
  },
  {
   "cell_type": "code",
   "execution_count": 66,
   "id": "f5b60744-29c4-44fd-bc7a-b32ae54219da",
   "metadata": {},
   "outputs": [],
   "source": [
    "df= pd.read_csv(\"Precios Restaurant.csv\")"
   ]
  },
  {
   "cell_type": "code",
   "execution_count": 68,
   "id": "d7083407-0813-41e2-9e1b-1f0d0f96acee",
   "metadata": {},
   "outputs": [
    {
     "name": "stdout",
     "output_type": "stream",
     "text": [
      "    Producto               Tipo  Precio   Costo\n",
      "0   Refresco  Bebida no Alcohol  $20.00  $16.00\n",
      "1   Limonada  Bebida no Alcohol  $25.00  $20.00\n",
      "2  Naranjada  Bebida no Alcohol  $25.00  $18.25\n",
      "3     Tisana  Bebida no Alcohol  $25.00  $18.00\n",
      "4  Te helado  Bebida no Alcohol  $25.00  $18.50\n"
     ]
    }
   ],
   "source": [
    "print(df.head())"
   ]
  },
  {
   "cell_type": "markdown",
   "id": "4e341ee4-4a20-4d3e-9af1-75ccd1d675a0",
   "metadata": {},
   "source": [
    "## Operaciones en Pandas"
   ]
  },
  {
   "cell_type": "markdown",
   "id": "eecdde91-45b2-4931-ad3c-89becd751119",
   "metadata": {},
   "source": [
    "Vamos creando una columan nueva de ganancias que será igual a precio menos costo de precios y costos"
   ]
  },
  {
   "cell_type": "code",
   "execution_count": 73,
   "id": "47a1ce9f-4387-4fa2-a591-47776e249f8b",
   "metadata": {},
   "outputs": [],
   "source": [
    "import pandas as pd\n",
    "\n",
    "df = pd.read_csv(\"Precios Restaurant.csv\")\n",
    "\n",
    "df['Precio'] = df['Precio'].replace({r'\\$': '', ',': ''}, regex=True).astype(float)\n",
    "df['Costo'] = df['Costo'].replace({r'\\$': '', ',': ''}, regex=True).astype(float)"
   ]
  },
  {
   "cell_type": "code",
   "execution_count": 75,
   "id": "bf035eb1-6ad0-440d-9a72-c8ce1db95943",
   "metadata": {},
   "outputs": [
    {
     "name": "stdout",
     "output_type": "stream",
     "text": [
      "    Producto               Tipo  Precio  Costo\n",
      "0   Refresco  Bebida no Alcohol    20.0  16.00\n",
      "1   Limonada  Bebida no Alcohol    25.0  20.00\n",
      "2  Naranjada  Bebida no Alcohol    25.0  18.25\n",
      "3     Tisana  Bebida no Alcohol    25.0  18.00\n",
      "4  Te helado  Bebida no Alcohol    25.0  18.50\n"
     ]
    }
   ],
   "source": [
    "print(df.head())"
   ]
  },
  {
   "cell_type": "code",
   "execution_count": 77,
   "id": "01ba876e-fdae-43d7-8861-af2f17455c34",
   "metadata": {},
   "outputs": [],
   "source": [
    "df['Ganancia'] = df['Precio'] - df['Costo']"
   ]
  },
  {
   "cell_type": "code",
   "execution_count": 79,
   "id": "94658d31-8157-4603-932f-fd67e5f89ab1",
   "metadata": {},
   "outputs": [
    {
     "name": "stdout",
     "output_type": "stream",
     "text": [
      "    Producto               Tipo  Precio  Costo  Ganancia\n",
      "0   Refresco  Bebida no Alcohol    20.0  16.00      4.00\n",
      "1   Limonada  Bebida no Alcohol    25.0  20.00      5.00\n",
      "2  Naranjada  Bebida no Alcohol    25.0  18.25      6.75\n",
      "3     Tisana  Bebida no Alcohol    25.0  18.00      7.00\n",
      "4  Te helado  Bebida no Alcohol    25.0  18.50      6.50\n"
     ]
    }
   ],
   "source": [
    "print(df.head())"
   ]
  },
  {
   "cell_type": "markdown",
   "id": "08c187ee-4535-49ee-bf0f-dea1fed8d656",
   "metadata": {},
   "source": [
    "Vamos tirando la columna de \"hora\" del restaruant"
   ]
  },
  {
   "cell_type": "code",
   "execution_count": 102,
   "id": "e91b5216-094d-4785-a80b-08be48e1f5e1",
   "metadata": {},
   "outputs": [],
   "source": [
    "import pandas as pd\n",
    "\n",
    "df= pd.read_excel(\"Datos Restaurante.xlsx\")"
   ]
  },
  {
   "cell_type": "code",
   "execution_count": 104,
   "id": "b699b424-9122-4bbb-b352-e35f19097160",
   "metadata": {},
   "outputs": [
    {
     "name": "stdout",
     "output_type": "stream",
     "text": [
      "Index(['Orden', 'Fecha', 'Hora de Cobro', 'Mesa', 'Atendió', 'Tipo',\n",
      "       'Producto', 'Categoria', 'Propina', 'Tipo de Cliente'],\n",
      "      dtype='object')\n"
     ]
    }
   ],
   "source": [
    "print(df.columns)"
   ]
  },
  {
   "cell_type": "code",
   "execution_count": 106,
   "id": "f17facf2-4905-4018-a650-e48abe951026",
   "metadata": {},
   "outputs": [],
   "source": [
    "import pandas as pd\n",
    "\n",
    "df = pd.read_excel(\"Datos Restaurante.xlsx\")\n",
    "\n",
    "df = df.drop(columns=['Hora de Cobro'])"
   ]
  },
  {
   "cell_type": "code",
   "execution_count": 107,
   "id": "054078a1-a0dd-4d23-bdad-61b830a4a308",
   "metadata": {},
   "outputs": [
    {
     "name": "stdout",
     "output_type": "stream",
     "text": [
      "   Orden      Fecha  Mesa  Atendió    Tipo        Producto          Categoria  \\\n",
      "0      1 2014-02-01     1  Rodolfo  Bebida          Tecate           Cervezas   \n",
      "1      1 2014-02-01     1  Rodolfo  Bebida          Tisana  Bebida no Alcohol   \n",
      "2      1 2014-02-01     1  Rodolfo  Bebida  Café americano  Bebida no Alcohol   \n",
      "3      1 2014-02-01     1  Rodolfo  Bebida       Te helado  Bebida no Alcohol   \n",
      "4      1 2014-02-01     1  Rodolfo  Comida  Pera Rostizada          Ensaladas   \n",
      "\n",
      "   Propina Tipo de Cliente  \n",
      "0     0.07   Cliente Nuevo  \n",
      "1     0.07   Cliente Nuevo  \n",
      "2     0.07   Cliente Nuevo  \n",
      "3     0.07   Cliente Nuevo  \n",
      "4     0.07   Cliente Nuevo  \n"
     ]
    }
   ],
   "source": [
    "print(df.head())"
   ]
  },
  {
   "cell_type": "markdown",
   "id": "32097ae6-a963-413d-8ee6-43ac1e018940",
   "metadata": {},
   "source": [
    "Arma un nuevo dataframe con todos los platillos de más de 100 pesos de precio (usando filtros)"
   ]
  },
  {
   "cell_type": "code",
   "execution_count": 124,
   "id": "65ce224c-b3e6-4614-8284-ae686a291902",
   "metadata": {},
   "outputs": [],
   "source": [
    "import pandas as pd\n",
    "\n",
    "df = pd.read_csv(\"Precios Restaurant.csv\")\n",
    "\n",
    "df['Precio'] = df['Precio'].replace({'\\\\$': '', ',': ''}, regex=True).astype(float)\n",
    "\n",
    "df['Costo'] = df['Costo'].replace({'\\\\$': '', ',': ''}, regex=True).astype(float)"
   ]
  },
  {
   "cell_type": "code",
   "execution_count": 126,
   "id": "76c99515-e7ca-4803-b103-11cdce30103c",
   "metadata": {},
   "outputs": [
    {
     "name": "stdout",
     "output_type": "stream",
     "text": [
      "    Producto               Tipo  Precio  Costo\n",
      "0   Refresco  Bebida no Alcohol    20.0  16.00\n",
      "1   Limonada  Bebida no Alcohol    25.0  20.00\n",
      "2  Naranjada  Bebida no Alcohol    25.0  18.25\n",
      "3     Tisana  Bebida no Alcohol    25.0  18.00\n",
      "4  Te helado  Bebida no Alcohol    25.0  18.50\n"
     ]
    }
   ],
   "source": [
    "print(df.head())"
   ]
  },
  {
   "cell_type": "code",
   "execution_count": 128,
   "id": "0e43b91b-a7dc-4a32-a7e0-f94e8ed59c93",
   "metadata": {},
   "outputs": [],
   "source": [
    "df_mayor_100 = df[df['Precio'] > 100]"
   ]
  },
  {
   "cell_type": "code",
   "execution_count": 130,
   "id": "8b1a25f2-d584-4139-b869-31b111307395",
   "metadata": {},
   "outputs": [
    {
     "name": "stdout",
     "output_type": "stream",
     "text": [
      "              Producto            Tipo  Precio   Costo\n",
      "16              Vino 1           Vinos   587.0  422.64\n",
      "17              Vino 2           Vinos   545.0  397.85\n",
      "18              Vino 3           Vinos   670.0  415.40\n",
      "19              Vino 4           Vinos   410.0  270.60\n",
      "20              Vino 5           Vinos   758.0  553.34\n",
      "21              Vino 6           Vinos   715.0  536.25\n",
      "22              Vino 7           Vinos   748.0  501.16\n",
      "23              Vino 8           Vinos   383.0  256.61\n",
      "24             Vino 9            Vinos   647.0  478.78\n",
      "25             Vino 10           Vinos   708.0  431.88\n",
      "37     Pesto & Camarón          Pizzas   125.0  108.70\n",
      "38      Salmón Ahumado          Pizzas   135.0  117.39\n",
      "39           Del Cheff          Pizzas   135.0  117.39\n",
      "40            Italiana          Pizzas   123.0  106.96\n",
      "41           Margarita          Pizzas   105.0   91.30\n",
      "42            Mexicana          Pizzas   115.0  100.00\n",
      "43     Pollo al Pastor          Pizzas   115.0  100.00\n",
      "44       Pizza Prímula          Pizzas   105.0   91.30\n",
      "45            Tropical          Pizzas   125.0  108.70\n",
      "57     Pollo Silvestre  Platos Fuertes   125.0  108.70\n",
      "58     Margret de Pato  Platos Fuertes   198.0  172.17\n",
      "59               Vacío  Platos Fuertes   164.0  142.61\n",
      "60  Arrachera del Chef  Platos Fuertes   135.0  117.39\n",
      "61     Salmón al Pesto  Platos Fuertes   174.0  151.30\n",
      "62     Atún Encostrado  Platos Fuertes   178.0  154.78\n"
     ]
    }
   ],
   "source": [
    "print(df_mayor_100)"
   ]
  },
  {
   "cell_type": "markdown",
   "id": "d0ed6779-ec13-4a5e-8855-06c1e947dd0f",
   "metadata": {},
   "source": [
    "Arma una nueva columna que clasifique platillos en alto/bajo margen, según si su ganancia es mayor a 100 pesos"
   ]
  },
  {
   "cell_type": "code",
   "execution_count": 132,
   "id": "c8a3aca5-b4f5-46a8-9ce5-b4c19aaadc37",
   "metadata": {},
   "outputs": [],
   "source": [
    "import pandas as pd\n",
    "\n",
    "df = pd.read_csv(\"Precios Restaurant.csv\")\n",
    "\n",
    "df['Precio'] = df['Precio'].replace({'\\\\$': '', ',': ''}, regex=True).astype(float)\n",
    "df['Costo'] = df['Costo'].replace({'\\\\$': '', ',': ''}, regex=True).astype(float)\n",
    "\n",
    "df['Ganancia'] = df['Precio'] - df['Costo']\n",
    "\n",
    "df['Margen'] = df['Ganancia'].apply(lambda x: 'Alto Margen' if x > 100 else 'Bajo Margen')"
   ]
  },
  {
   "cell_type": "code",
   "execution_count": 134,
   "id": "6910b587-3ff6-4d30-94d9-55b774345435",
   "metadata": {},
   "outputs": [
    {
     "name": "stdout",
     "output_type": "stream",
     "text": [
      "                Producto  Ganancia       Margen\n",
      "0               Refresco      4.00  Bajo Margen\n",
      "1               Limonada      5.00  Bajo Margen\n",
      "2              Naranjada      6.75  Bajo Margen\n",
      "3                 Tisana      7.00  Bajo Margen\n",
      "4              Te helado      6.50  Bajo Margen\n",
      "..                   ...       ...          ...\n",
      "72                  Tako      9.78  Bajo Margen\n",
      "73            Empanizado      8.48  Bajo Margen\n",
      "74          Philadelphia      9.78  Bajo Margen\n",
      "75               Tempura      9.78  Bajo Margen\n",
      "76  California Horizonte      8.48  Bajo Margen\n",
      "\n",
      "[77 rows x 3 columns]\n"
     ]
    }
   ],
   "source": [
    "print(df[['Producto', 'Ganancia', 'Margen']])\n"
   ]
  },
  {
   "cell_type": "markdown",
   "id": "6b878f74-8648-4a54-b0dc-c075f40356e3",
   "metadata": {},
   "source": [
    "Cambiale el nombre a la columna de Atendió por Mesero en el df de Restaurant"
   ]
  },
  {
   "cell_type": "code",
   "execution_count": 138,
   "id": "2fd84daa-e210-4e6a-9fca-539e55fd2c13",
   "metadata": {},
   "outputs": [],
   "source": [
    "import pandas as pd\n",
    "\n",
    "df = pd.read_excel(\"Datos Restaurante.xlsx\")\n",
    "\n",
    "df = df.rename(columns={'Atendió': 'Mesero'})"
   ]
  },
  {
   "cell_type": "code",
   "execution_count": 141,
   "id": "659327f9-1929-48f3-9b3d-3adab2c7fe19",
   "metadata": {},
   "outputs": [
    {
     "name": "stdout",
     "output_type": "stream",
     "text": [
      "   Orden      Fecha Hora de Cobro  Mesa   Mesero    Tipo        Producto  \\\n",
      "0      1 2014-02-01      18:43:12     1  Rodolfo  Bebida          Tecate   \n",
      "1      1 2014-02-01      18:43:12     1  Rodolfo  Bebida          Tisana   \n",
      "2      1 2014-02-01      18:43:12     1  Rodolfo  Bebida  Café americano   \n",
      "3      1 2014-02-01      18:43:12     1  Rodolfo  Bebida       Te helado   \n",
      "4      1 2014-02-01      18:43:12     1  Rodolfo  Comida  Pera Rostizada   \n",
      "\n",
      "           Categoria  Propina Tipo de Cliente  \n",
      "0           Cervezas     0.07   Cliente Nuevo  \n",
      "1  Bebida no Alcohol     0.07   Cliente Nuevo  \n",
      "2  Bebida no Alcohol     0.07   Cliente Nuevo  \n",
      "3  Bebida no Alcohol     0.07   Cliente Nuevo  \n",
      "4          Ensaladas     0.07   Cliente Nuevo  \n"
     ]
    }
   ],
   "source": [
    "print(df.head())"
   ]
  },
  {
   "cell_type": "markdown",
   "id": "5675680a-f351-48d5-a2c6-4119c148c0f5",
   "metadata": {},
   "source": [
    "## Merging o Vlookup"
   ]
  },
  {
   "cell_type": "markdown",
   "id": "513a3418-fc84-4828-98e4-ff49d944c2cd",
   "metadata": {},
   "source": [
    "Vamos a juntar los 2 dataframes usando un left join"
   ]
  },
  {
   "cell_type": "code",
   "execution_count": 144,
   "id": "9a1ed423-a33c-4055-809b-102ceb6dd1dd",
   "metadata": {},
   "outputs": [],
   "source": [
    "import pandas as pd\n",
    "\n",
    "df_restaurant = pd.read_excel(\"Datos Restaurante.xlsx\")\n",
    "df_precios = pd.read_csv(\"Precios Restaurant.csv\")\n",
    "\n",
    "df_precios['Precio'] = df_precios['Precio'].replace({'\\\\$': '', ',': ''}, regex=True).astype(float)\n",
    "df_precios['Costo'] = df_precios['Costo'].replace({'\\\\$': '', ',': ''}, regex=True).astype(float)\n",
    "\n",
    "df_combinado = pd.merge(df_restaurant, df_precios, how='left', left_on='Producto', right_on='Producto')"
   ]
  },
  {
   "cell_type": "code",
   "execution_count": 145,
   "id": "b80bb33e-c2e9-4bb7-a384-60bc94ddbc48",
   "metadata": {},
   "outputs": [
    {
     "name": "stdout",
     "output_type": "stream",
     "text": [
      "   Orden      Fecha Hora de Cobro  Mesa  Atendió  Tipo_x        Producto  \\\n",
      "0      1 2014-02-01      18:43:12     1  Rodolfo  Bebida          Tecate   \n",
      "1      1 2014-02-01      18:43:12     1  Rodolfo  Bebida          Tisana   \n",
      "2      1 2014-02-01      18:43:12     1  Rodolfo  Bebida  Café americano   \n",
      "3      1 2014-02-01      18:43:12     1  Rodolfo  Bebida       Te helado   \n",
      "4      1 2014-02-01      18:43:12     1  Rodolfo  Comida  Pera Rostizada   \n",
      "\n",
      "           Categoria  Propina Tipo de Cliente             Tipo_y  Precio  \\\n",
      "0           Cervezas     0.07   Cliente Nuevo           Cervezas    25.0   \n",
      "1  Bebida no Alcohol     0.07   Cliente Nuevo  Bebida no Alcohol    25.0   \n",
      "2  Bebida no Alcohol     0.07   Cliente Nuevo  Bebida no Alcohol    18.0   \n",
      "3  Bebida no Alcohol     0.07   Cliente Nuevo  Bebida no Alcohol    25.0   \n",
      "4          Ensaladas     0.07   Cliente Nuevo          Ensaladas    89.0   \n",
      "\n",
      "   Costo  \n",
      "0  18.00  \n",
      "1  18.00  \n",
      "2  12.60  \n",
      "3  18.50  \n",
      "4  77.39  \n"
     ]
    }
   ],
   "source": [
    "print(df_combinado.head())"
   ]
  },
  {
   "cell_type": "markdown",
   "id": "ef2540b2-57bd-4838-bf63-333a474f5b92",
   "metadata": {},
   "source": [
    "Cuales son las diferencias entre merge de Python y Vlookup de Excel?"
   ]
  },
  {
   "cell_type": "code",
   "execution_count": null,
   "id": "0c54f931-b011-4fa8-aad1-a7eb789e126e",
   "metadata": {},
   "outputs": [],
   "source": [
    "merge() es más rápido para grandes volúmenes de datos y uniones algo complejas.\n",
    "    \n",
    "VLOOKUP en Excel es más sencillo, solo busca valores a la derecha,\n",
    "es más limitado y menos útil con grandes datos."
   ]
  },
  {
   "cell_type": "markdown",
   "id": "a5d56c18-6292-4dc9-bab2-319c34dd24b0",
   "metadata": {},
   "source": [
    "## Quitar duplicados"
   ]
  },
  {
   "cell_type": "markdown",
   "id": "cb3cee06-60a0-4fa7-b4a8-8489a93ac5d4",
   "metadata": {},
   "source": [
    "Crea un nueva Serie con la columna de \"Mesero\" - obten los valores únicos"
   ]
  },
  {
   "cell_type": "code",
   "execution_count": 151,
   "id": "b004239b-eae9-4318-bd09-65efce4a9de8",
   "metadata": {},
   "outputs": [],
   "source": [
    "meseros_unicos = df['Mesero'].unique()"
   ]
  },
  {
   "cell_type": "code",
   "execution_count": 153,
   "id": "d5ba9032-9682-41e6-b1d2-ce041d66d184",
   "metadata": {},
   "outputs": [],
   "source": [
    "serie_meseros = pd.Series(meseros_unicos)"
   ]
  },
  {
   "cell_type": "code",
   "execution_count": 155,
   "id": "ebcdac3c-cb7b-41b4-ae27-32dbebdc8cfe",
   "metadata": {},
   "outputs": [
    {
     "name": "stdout",
     "output_type": "stream",
     "text": [
      "0      Rodolfo\n",
      "1     Mauricio\n",
      "2         Joel\n",
      "3    Valentina\n",
      "4         Omar\n",
      "5         Saul\n",
      "6    Alejandro\n",
      "7      Mariana\n",
      "8      Ernesto\n",
      "dtype: object\n"
     ]
    }
   ],
   "source": [
    "print(serie_meseros)"
   ]
  },
  {
   "cell_type": "markdown",
   "id": "da0bc143-8954-4819-be20-3aa718f712d2",
   "metadata": {},
   "source": [
    "## Tablas Dinámicas"
   ]
  },
  {
   "cell_type": "markdown",
   "id": "5795adc4-1ec6-4db6-a191-45ab8f20e342",
   "metadata": {},
   "source": [
    "Pandas también nos permite analizar datos mediante tablas dinámicas"
   ]
  },
  {
   "cell_type": "markdown",
   "id": "dcb38437-126e-4b93-92db-5630a1ec8650",
   "metadata": {},
   "source": [
    "Vamos creando una tabla dinámica que nos muestre las ventas por categoría"
   ]
  },
  {
   "cell_type": "code",
   "execution_count": 165,
   "id": "3362e79a-c9df-4798-89ff-12cb44cf2a13",
   "metadata": {},
   "outputs": [
    {
     "name": "stdout",
     "output_type": "stream",
     "text": [
      "    Producto               Tipo  Precio  Costo\n",
      "0   Refresco  Bebida no Alcohol    20.0  16.00\n",
      "1   Limonada  Bebida no Alcohol    25.0  20.00\n",
      "2  Naranjada  Bebida no Alcohol    25.0  18.25\n",
      "3     Tisana  Bebida no Alcohol    25.0  18.00\n",
      "4  Te helado  Bebida no Alcohol    25.0  18.50\n"
     ]
    }
   ],
   "source": [
    "import pandas as pd\n",
    "\n",
    "df = pd.read_csv(\"Precios Restaurant.csv\")\n",
    "\n",
    "df['Precio'] = df['Precio'].replace({'\\\\$': '', ',': ''}, regex=True).astype(float)\n",
    "df['Costo'] = df['Costo'].replace({'\\\\$': '', ',': ''}, regex=True).astype(float)\n",
    "\n",
    "print(df.head())"
   ]
  },
  {
   "cell_type": "code",
   "execution_count": 167,
   "id": "b70c97f0-1e71-4c30-a5d6-7c670ca2ca93",
   "metadata": {},
   "outputs": [
    {
     "name": "stdout",
     "output_type": "stream",
     "text": [
      "                   Precio\n",
      "Tipo                     \n",
      "Bebida no Alcohol   213.0\n",
      "Cervezas            210.0\n",
      "Ensaladas           554.0\n",
      "Entradas            571.0\n",
      "Pastas              276.0\n",
      "Pizzas             1083.0\n",
      "Platos Fuertes      974.0\n",
      "Postres             259.0\n",
      "Sushi               560.0\n",
      "Tacos               232.0\n",
      "Vinos              6171.0\n"
     ]
    }
   ],
   "source": [
    "tabla_dinamica = pd.pivot_table(df, values='Precio', index='Tipo', aggfunc='sum')\n",
    "\n",
    "print(tabla_dinamica)"
   ]
  },
  {
   "cell_type": "markdown",
   "id": "7143295f-ab1f-4e22-af20-1950e86dcfa0",
   "metadata": {},
   "source": [
    "Ahora una tabla dinámica que nos muestre las ventas por categoría y por tipo en la columna"
   ]
  },
  {
   "cell_type": "code",
   "execution_count": 181,
   "id": "e3139666-6e86-41a0-8c0e-9f7187335f7c",
   "metadata": {},
   "outputs": [
    {
     "name": "stdout",
     "output_type": "stream",
     "text": [
      "Producto           Arrachera del Chef  Atún Encostrado  Brochetas Hawaiianas  \\\n",
      "Tipo                                                                           \n",
      "Bebida no Alcohol                 NaN              NaN                   NaN   \n",
      "Cervezas                          NaN              NaN                   NaN   \n",
      "Ensaladas                         NaN              NaN                   NaN   \n",
      "Entradas                          NaN              NaN                  74.0   \n",
      "Pastas                            NaN              NaN                   NaN   \n",
      "Pizzas                            NaN              NaN                   NaN   \n",
      "Platos Fuertes                  135.0            178.0                   NaN   \n",
      "Postres                           NaN              NaN                   NaN   \n",
      "Sushi                             NaN              NaN                   NaN   \n",
      "Tacos                             NaN              NaN                   NaN   \n",
      "Vinos                             NaN              NaN                   NaN   \n",
      "\n",
      "Producto           Café americano  California Horizonte  Camarones Momia  \\\n",
      "Tipo                                                                       \n",
      "Bebida no Alcohol            18.0                   NaN              NaN   \n",
      "Cervezas                      NaN                   NaN              NaN   \n",
      "Ensaladas                     NaN                   NaN              NaN   \n",
      "Entradas                      NaN                   NaN             75.0   \n",
      "Pastas                        NaN                   NaN              NaN   \n",
      "Pizzas                        NaN                   NaN              NaN   \n",
      "Platos Fuertes                NaN                   NaN              NaN   \n",
      "Postres                       NaN                   NaN              NaN   \n",
      "Sushi                         NaN                  65.0              NaN   \n",
      "Tacos                         NaN                   NaN              NaN   \n",
      "Vinos                         NaN                   NaN              NaN   \n",
      "\n",
      "Producto           Camarones al Coco  Capuccino  Corona  Cítricos  ...  \\\n",
      "Tipo                                                               ...   \n",
      "Bebida no Alcohol                NaN       30.0     NaN       NaN  ...   \n",
      "Cervezas                         NaN        NaN    30.0       NaN  ...   \n",
      "Ensaladas                       84.0        NaN     NaN      69.0  ...   \n",
      "Entradas                         NaN        NaN     NaN       NaN  ...   \n",
      "Pastas                           NaN        NaN     NaN       NaN  ...   \n",
      "Pizzas                           NaN        NaN     NaN       NaN  ...   \n",
      "Platos Fuertes                   NaN        NaN     NaN       NaN  ...   \n",
      "Postres                          NaN        NaN     NaN       NaN  ...   \n",
      "Sushi                            NaN        NaN     NaN       NaN  ...   \n",
      "Tacos                            NaN        NaN     NaN       NaN  ...   \n",
      "Vinos                            NaN        NaN     NaN       NaN  ...   \n",
      "\n",
      "Producto           Vino 1  Vino 10  Vino 2  Vino 3  Vino 4  Vino 5  Vino 6  \\\n",
      "Tipo                                                                         \n",
      "Bebida no Alcohol     NaN      NaN     NaN     NaN     NaN     NaN     NaN   \n",
      "Cervezas              NaN      NaN     NaN     NaN     NaN     NaN     NaN   \n",
      "Ensaladas             NaN      NaN     NaN     NaN     NaN     NaN     NaN   \n",
      "Entradas              NaN      NaN     NaN     NaN     NaN     NaN     NaN   \n",
      "Pastas                NaN      NaN     NaN     NaN     NaN     NaN     NaN   \n",
      "Pizzas                NaN      NaN     NaN     NaN     NaN     NaN     NaN   \n",
      "Platos Fuertes        NaN      NaN     NaN     NaN     NaN     NaN     NaN   \n",
      "Postres               NaN      NaN     NaN     NaN     NaN     NaN     NaN   \n",
      "Sushi                 NaN      NaN     NaN     NaN     NaN     NaN     NaN   \n",
      "Tacos                 NaN      NaN     NaN     NaN     NaN     NaN     NaN   \n",
      "Vinos               587.0    708.0   545.0   670.0   410.0   758.0   715.0   \n",
      "\n",
      "Producto           Vino 7  Vino 8  Vino 9   \n",
      "Tipo                                        \n",
      "Bebida no Alcohol     NaN     NaN      NaN  \n",
      "Cervezas              NaN     NaN      NaN  \n",
      "Ensaladas             NaN     NaN      NaN  \n",
      "Entradas              NaN     NaN      NaN  \n",
      "Pastas                NaN     NaN      NaN  \n",
      "Pizzas                NaN     NaN      NaN  \n",
      "Platos Fuertes        NaN     NaN      NaN  \n",
      "Postres               NaN     NaN      NaN  \n",
      "Sushi                 NaN     NaN      NaN  \n",
      "Tacos                 NaN     NaN      NaN  \n",
      "Vinos               748.0   383.0    647.0  \n",
      "\n",
      "[11 rows x 77 columns]\n"
     ]
    }
   ],
   "source": [
    "tabla_dinamica2 = pd.pivot_table(df, values='Precio', index='Tipo', columns='Producto', aggfunc='sum')\n",
    "print(tabla_dinamica2)"
   ]
  },
  {
   "cell_type": "markdown",
   "id": "41494dfb-730f-40d1-989c-7e5f69311875",
   "metadata": {},
   "source": [
    "Crea una tabla dináica que muestre las ventas por tipo y categoría (filas), y por mesero (columnas)"
   ]
  },
  {
   "cell_type": "code",
   "execution_count": 191,
   "id": "835c3e57-e709-4137-a83b-354767db3560",
   "metadata": {},
   "outputs": [
    {
     "name": "stdout",
     "output_type": "stream",
     "text": [
      "Atendió                   Alejandro  Ernesto     Joel  Mariana  Mauricio  \\\n",
      "Tipo_x Categoria                                                           \n",
      "Bebida Bebida no Alcohol    21882.0  23244.0  22393.0  22514.0   18149.0   \n",
      "       Cervezas             22150.0  22870.0  22235.0  20595.0   17895.0   \n",
      "       Vinos                45957.0  38776.0  43333.0  25250.0       0.0   \n",
      "Comida Ensaladas            22756.0  21592.0  24344.0  22312.0   19644.0   \n",
      "       Entradas             21502.0  24555.0  22506.0  21255.0   19208.0   \n",
      "       Pastas               10374.0  11119.0  10602.0   8250.0    8481.0   \n",
      "       Pizzas               43626.0  47386.0  43325.0  46582.0   33872.0   \n",
      "       Platos Fuertes       37157.0  44278.0  44573.0  38887.0   29893.0   \n",
      "       Postres              10919.0   9780.0  11728.0  11000.0    7958.0   \n",
      "       Tacos                 8111.0   9036.0   8807.0   9457.0    7453.0   \n",
      "\n",
      "Atendió                      Omar  Rodolfo     Saul  Valentina  \n",
      "Tipo_x Categoria                                                \n",
      "Bebida Bebida no Alcohol  22870.0  21920.0  21532.0    19976.0  \n",
      "       Cervezas           22480.0  22385.0  20920.0    20065.0  \n",
      "       Vinos              31078.0  26233.0  35019.0    27153.0  \n",
      "Comida Ensaladas          24245.0  21567.0  22049.0    20700.0  \n",
      "       Entradas           22436.0  21707.0  21372.0    18970.0  \n",
      "       Pastas             11164.0  12187.0   9951.0    10239.0  \n",
      "       Pizzas             43771.0  40154.0  43319.0    43153.0  \n",
      "       Platos Fuertes     42607.0  44259.0  35199.0    36772.0  \n",
      "       Postres            10595.0  10391.0   9553.0     9585.0  \n",
      "       Tacos              10835.0   8741.0   8107.0     6799.0  \n"
     ]
    }
   ],
   "source": [
    "tabla_dinamica = pd.pivot_table(df_combinado, \n",
    "                                 values='Precio', \n",
    "                                 index=['Tipo_x', 'Categoria'], \n",
    "                                 columns='Atendió',  # 'Atendió' parece ser el nombre de la columna del mesero\n",
    "                                 aggfunc='sum', \n",
    "                                 fill_value=0)\n",
    "\n",
    "print(tabla_dinamica)"
   ]
  },
  {
   "cell_type": "code",
   "execution_count": 194,
   "id": "a30a3348-fa5b-424c-bb4c-acbaa02fce3a",
   "metadata": {},
   "outputs": [
    {
     "name": "stdout",
     "output_type": "stream",
     "text": [
      "Atendió                   Alejandro  Ernesto     Joel  Mariana  Mauricio  \\\n",
      "Tipo_x Categoria                                                           \n",
      "Bebida Bebida no Alcohol    21882.0  23244.0  22393.0  22514.0   18149.0   \n",
      "       Cervezas             22150.0  22870.0  22235.0  20595.0   17895.0   \n",
      "       Vinos                45957.0  38776.0  43333.0  25250.0       0.0   \n",
      "Comida Ensaladas            22756.0  21592.0  24344.0  22312.0   19644.0   \n",
      "       Entradas             21502.0  24555.0  22506.0  21255.0   19208.0   \n",
      "       Pastas               10374.0  11119.0  10602.0   8250.0    8481.0   \n",
      "       Pizzas               43626.0  47386.0  43325.0  46582.0   33872.0   \n",
      "       Platos Fuertes       37157.0  44278.0  44573.0  38887.0   29893.0   \n",
      "       Postres              10919.0   9780.0  11728.0  11000.0    7958.0   \n",
      "       Tacos                 8111.0   9036.0   8807.0   9457.0    7453.0   \n",
      "\n",
      "Atendió                      Omar  Rodolfo     Saul  Valentina  \n",
      "Tipo_x Categoria                                                \n",
      "Bebida Bebida no Alcohol  22870.0  21920.0  21532.0    19976.0  \n",
      "       Cervezas           22480.0  22385.0  20920.0    20065.0  \n",
      "       Vinos              31078.0  26233.0  35019.0    27153.0  \n",
      "Comida Ensaladas          24245.0  21567.0  22049.0    20700.0  \n",
      "       Entradas           22436.0  21707.0  21372.0    18970.0  \n",
      "       Pastas             11164.0  12187.0   9951.0    10239.0  \n",
      "       Pizzas             43771.0  40154.0  43319.0    43153.0  \n",
      "       Platos Fuertes     42607.0  44259.0  35199.0    36772.0  \n",
      "       Postres            10595.0  10391.0   9553.0     9585.0  \n",
      "       Tacos              10835.0   8741.0   8107.0     6799.0  \n"
     ]
    }
   ],
   "source": [
    "tabla_dinamica = pd.pivot_table(df_combinado, \n",
    "                                 values='Precio', \n",
    "                                 index=['Tipo_x', 'Categoria'], \n",
    "                                 columns='Atendió',  # 'Atendió' parece ser el nombre de la columna del mesero\n",
    "                                 aggfunc='sum', \n",
    "                                 fill_value=0)\n",
    "\n",
    "print(tabla_dinamica)"
   ]
  },
  {
   "cell_type": "markdown",
   "id": "908d33da-0e29-4514-9873-4f7036298896",
   "metadata": {},
   "source": [
    "Crea una tabla dinámica que muestre las ventas promedio por mesero"
   ]
  },
  {
   "cell_type": "code",
   "execution_count": 196,
   "id": "7f2a8b33-264f-450a-8fd4-7d73cd4cefc5",
   "metadata": {},
   "outputs": [],
   "source": [
    "tabla_dinamica_promedio = pd.pivot_table(\n",
    "    df_combinado, \n",
    "    values='Precio', \n",
    "    index='Atendió', \n",
    "    aggfunc='mean', \n",
    "    fill_value=0\n",
    ")"
   ]
  },
  {
   "cell_type": "code",
   "execution_count": 198,
   "id": "73b8e741-43c8-4bd3-90ba-7d861d20c490",
   "metadata": {},
   "outputs": [
    {
     "name": "stdout",
     "output_type": "stream",
     "text": [
      "              Precio\n",
      "Atendió             \n",
      "Alejandro  71.263557\n",
      "Ernesto    70.274270\n",
      "Joel       71.405345\n",
      "Mariana    66.874298\n",
      "Mauricio   58.981495\n",
      "Omar       67.943026\n",
      "Rodolfo    66.844496\n",
      "Saul       68.773402\n",
      "Valentina  68.467116\n"
     ]
    }
   ],
   "source": [
    "print(tabla_dinamica_promedio)"
   ]
  }
 ],
 "metadata": {
  "kernelspec": {
   "display_name": "Python [conda env:base] *",
   "language": "python",
   "name": "conda-base-py"
  },
  "language_info": {
   "codemirror_mode": {
    "name": "ipython",
    "version": 3
   },
   "file_extension": ".py",
   "mimetype": "text/x-python",
   "name": "python",
   "nbconvert_exporter": "python",
   "pygments_lexer": "ipython3",
   "version": "3.12.7"
  }
 },
 "nbformat": 4,
 "nbformat_minor": 5
}
